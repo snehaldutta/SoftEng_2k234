{
 "cells": [
  {
   "cell_type": "code",
   "execution_count": 1,
   "id": "ae7a7012-327c-4108-a870-9fa831f99039",
   "metadata": {},
   "outputs": [],
   "source": [
    "# pip install keras"
   ]
  },
  {
   "cell_type": "code",
   "execution_count": 2,
   "id": "98b75fdf-e19f-4d65-9df7-9e6f9fe45aad",
   "metadata": {},
   "outputs": [],
   "source": [
    "# pip install tensorflow"
   ]
  },
  {
   "cell_type": "raw",
   "id": "64c1ee19-614e-4ce9-b14d-44175693a9ee",
   "metadata": {},
   "source": [
    "Building the LSTM Model "
   ]
  },
  {
   "cell_type": "code",
   "execution_count": 3,
   "id": "1a9b7cc7-ecba-41d7-8901-7b0aeeb50018",
   "metadata": {},
   "outputs": [],
   "source": [
    "import pandas as pd\n",
    "import matplotlib.pyplot as plt \n",
    "import numpy as np\n",
    "from sklearn.preprocessing import MinMaxScaler"
   ]
  },
  {
   "cell_type": "code",
   "execution_count": 5,
   "id": "b19d7b50-8818-48df-a699-274e9231c0ee",
   "metadata": {},
   "outputs": [
    {
     "data": {
      "text/html": [
       "<div>\n",
       "<style scoped>\n",
       "    .dataframe tbody tr th:only-of-type {\n",
       "        vertical-align: middle;\n",
       "    }\n",
       "\n",
       "    .dataframe tbody tr th {\n",
       "        vertical-align: top;\n",
       "    }\n",
       "\n",
       "    .dataframe thead th {\n",
       "        text-align: right;\n",
       "    }\n",
       "</style>\n",
       "<table border=\"1\" class=\"dataframe\">\n",
       "  <thead>\n",
       "    <tr style=\"text-align: right;\">\n",
       "      <th></th>\n",
       "      <th>Date</th>\n",
       "      <th>Price</th>\n",
       "      <th>Open</th>\n",
       "      <th>High</th>\n",
       "      <th>Low</th>\n",
       "    </tr>\n",
       "  </thead>\n",
       "  <tbody>\n",
       "    <tr>\n",
       "      <th>0</th>\n",
       "      <td>2014-04-01</td>\n",
       "      <td>36.11</td>\n",
       "      <td>35.50</td>\n",
       "      <td>36.29</td>\n",
       "      <td>34.76</td>\n",
       "    </tr>\n",
       "    <tr>\n",
       "      <th>1</th>\n",
       "      <td>2014-04-02</td>\n",
       "      <td>36.31</td>\n",
       "      <td>36.27</td>\n",
       "      <td>36.44</td>\n",
       "      <td>35.91</td>\n",
       "    </tr>\n",
       "    <tr>\n",
       "      <th>2</th>\n",
       "      <td>2014-04-03</td>\n",
       "      <td>35.86</td>\n",
       "      <td>36.27</td>\n",
       "      <td>37.07</td>\n",
       "      <td>35.51</td>\n",
       "    </tr>\n",
       "    <tr>\n",
       "      <th>3</th>\n",
       "      <td>2014-04-04</td>\n",
       "      <td>36.17</td>\n",
       "      <td>36.03</td>\n",
       "      <td>36.40</td>\n",
       "      <td>35.59</td>\n",
       "    </tr>\n",
       "    <tr>\n",
       "      <th>4</th>\n",
       "      <td>2014-04-07</td>\n",
       "      <td>36.53</td>\n",
       "      <td>36.53</td>\n",
       "      <td>36.81</td>\n",
       "      <td>35.85</td>\n",
       "    </tr>\n",
       "  </tbody>\n",
       "</table>\n",
       "</div>"
      ],
      "text/plain": [
       "         Date  Price   Open   High    Low\n",
       "0  2014-04-01  36.11  35.50  36.29  34.76\n",
       "1  2014-04-02  36.31  36.27  36.44  35.91\n",
       "2  2014-04-03  35.86  36.27  37.07  35.51\n",
       "3  2014-04-04  36.17  36.03  36.40  35.59\n",
       "4  2014-04-07  36.53  36.53  36.81  35.85"
      ]
     },
     "execution_count": 5,
     "metadata": {},
     "output_type": "execute_result"
    }
   ],
   "source": [
    "df = pd.read_csv('data/model.csv')\n",
    "df.head()"
   ]
  },
  {
   "cell_type": "code",
   "execution_count": 58,
   "id": "ba9c91bc-6ded-4d22-88b2-aae93513d542",
   "metadata": {},
   "outputs": [
    {
     "data": {
      "text/html": [
       "<div>\n",
       "<style scoped>\n",
       "    .dataframe tbody tr th:only-of-type {\n",
       "        vertical-align: middle;\n",
       "    }\n",
       "\n",
       "    .dataframe tbody tr th {\n",
       "        vertical-align: top;\n",
       "    }\n",
       "\n",
       "    .dataframe thead th {\n",
       "        text-align: right;\n",
       "    }\n",
       "</style>\n",
       "<table border=\"1\" class=\"dataframe\">\n",
       "  <thead>\n",
       "    <tr style=\"text-align: right;\">\n",
       "      <th></th>\n",
       "      <th>Date</th>\n",
       "      <th>Price</th>\n",
       "      <th>Open</th>\n",
       "      <th>High</th>\n",
       "      <th>Low</th>\n",
       "    </tr>\n",
       "  </thead>\n",
       "  <tbody>\n",
       "    <tr>\n",
       "      <th>2463</th>\n",
       "      <td>2024-03-18</td>\n",
       "      <td>149.60</td>\n",
       "      <td>143.85</td>\n",
       "      <td>150.25</td>\n",
       "      <td>142.20</td>\n",
       "    </tr>\n",
       "    <tr>\n",
       "      <th>2464</th>\n",
       "      <td>2024-03-19</td>\n",
       "      <td>148.65</td>\n",
       "      <td>149.55</td>\n",
       "      <td>152.55</td>\n",
       "      <td>147.55</td>\n",
       "    </tr>\n",
       "    <tr>\n",
       "      <th>2465</th>\n",
       "      <td>2024-03-20</td>\n",
       "      <td>145.70</td>\n",
       "      <td>149.70</td>\n",
       "      <td>150.70</td>\n",
       "      <td>143.85</td>\n",
       "    </tr>\n",
       "    <tr>\n",
       "      <th>2466</th>\n",
       "      <td>2024-03-21</td>\n",
       "      <td>150.15</td>\n",
       "      <td>148.05</td>\n",
       "      <td>151.15</td>\n",
       "      <td>147.90</td>\n",
       "    </tr>\n",
       "    <tr>\n",
       "      <th>2467</th>\n",
       "      <td>2024-03-22</td>\n",
       "      <td>151.50</td>\n",
       "      <td>148.05</td>\n",
       "      <td>152.75</td>\n",
       "      <td>148.60</td>\n",
       "    </tr>\n",
       "  </tbody>\n",
       "</table>\n",
       "</div>"
      ],
      "text/plain": [
       "            Date   Price    Open    High     Low\n",
       "2463  2024-03-18  149.60  143.85  150.25  142.20\n",
       "2464  2024-03-19  148.65  149.55  152.55  147.55\n",
       "2465  2024-03-20  145.70  149.70  150.70  143.85\n",
       "2466  2024-03-21  150.15  148.05  151.15  147.90\n",
       "2467  2024-03-22  151.50  148.05  152.75  148.60"
      ]
     },
     "execution_count": 58,
     "metadata": {},
     "output_type": "execute_result"
    }
   ],
   "source": [
    "df.tail()"
   ]
  },
  {
   "cell_type": "code",
   "execution_count": 6,
   "id": "58afb003-b5ee-4061-a60d-4af3e29e97dc",
   "metadata": {},
   "outputs": [
    {
     "data": {
      "text/plain": [
       "0        36.11\n",
       "1        36.31\n",
       "2        35.86\n",
       "3        36.17\n",
       "4        36.53\n",
       "         ...  \n",
       "2463    149.60\n",
       "2464    148.65\n",
       "2465    145.70\n",
       "2466    150.15\n",
       "2467    151.50\n",
       "Name: Price, Length: 2468, dtype: float64"
      ]
     },
     "execution_count": 6,
     "metadata": {},
     "output_type": "execute_result"
    }
   ],
   "source": [
    "cop = df.reset_index()['Price']\n",
    "cop"
   ]
  },
  {
   "cell_type": "code",
   "execution_count": 7,
   "id": "715a2322-268a-4d3b-bf64-99d79f7ef14e",
   "metadata": {},
   "outputs": [
    {
     "data": {
      "text/plain": [
       "[<matplotlib.lines.Line2D at 0x148cf2590>]"
      ]
     },
     "execution_count": 7,
     "metadata": {},
     "output_type": "execute_result"
    },
    {
     "data": {
      "image/png": "[encoded data removed]",
      "text/plain": [
       "<Figure size 640x480 with 1 Axes>"
      ]
     },
     "metadata": {},
     "output_type": "display_data"
    }
   ],
   "source": [
    "plt.plot(cop)"
   ]
  },
  {
   "cell_type": "code",
   "execution_count": 8,
   "id": "37663adb-c9dc-48cc-a5f2-c994cf85edf8",
   "metadata": {},
   "outputs": [],
   "source": [
    "scaler = MinMaxScaler(feature_range=(0,1))\n",
    "cop = scaler.fit_transform(np.array(cop).reshape(-1,1))"
   ]
  },
  {
   "cell_type": "code",
   "execution_count": 9,
   "id": "48aa167a-dd22-4cef-8458-8b84d08ff013",
   "metadata": {},
   "outputs": [
    {
     "data": {
      "text/plain": [
       "2468"
      ]
     },
     "execution_count": 9,
     "metadata": {},
     "output_type": "execute_result"
    }
   ],
   "source": [
    "len(cop)"
   ]
  },
  {
   "cell_type": "code",
   "execution_count": 10,
   "id": "e7db7830-82f8-4033-b098-c905c2919f67",
   "metadata": {},
   "outputs": [],
   "source": [
    "trainingSize = int(len(cop)*0.80)\n",
    "testSize = len(cop)-trainingSize\n",
    "\n",
    "train_data, test_data = cop[0:trainingSize,:],cop[trainingSize:len(cop),:1]"
   ]
  },
  {
   "cell_type": "code",
   "execution_count": 11,
   "id": "d82c056b-0cd7-4791-835d-d9392c22b711",
   "metadata": {},
   "outputs": [
    {
     "data": {
      "text/plain": [
       "(1974, 494)"
      ]
     },
     "execution_count": 11,
     "metadata": {},
     "output_type": "execute_result"
    }
   ],
   "source": [
    "len(train_data),len(test_data)"
   ]
  },
  {
   "cell_type": "code",
   "execution_count": 12,
   "id": "ef04aca0-f62c-4b4d-9754-302e0b49d337",
   "metadata": {},
   "outputs": [],
   "source": [
    "def create_data(data,time_step):\n",
    "    X, y = [],[]\n",
    "    for i in range(len(data)-time_step-1):\n",
    "        a = data[i:(i+time_step),0]\n",
    "        b = data[i+time_step,0]\n",
    "        X.append(a)\n",
    "        y.append(b)\n",
    "\n",
    "    return np.array(X), np.array(y)"
   ]
  },
  {
   "cell_type": "code",
   "execution_count": 32,
   "id": "39d5ab80-c191-464a-8f7a-c5ef5d218c99",
   "metadata": {},
   "outputs": [],
   "source": [
    "time_step = 100\n",
    "X_train, y_train = create_data(train_data,time_step)\n",
    "X_test, y_test = create_data(test_data,time_step)"
   ]
  },
  {
   "cell_type": "code",
   "execution_count": 33,
   "id": "dcc63627-3c6b-4496-a506-45c62b9de1f6",
   "metadata": {},
   "outputs": [
    {
     "name": "stdout",
     "output_type": "stream",
     "text": [
      "(1873, 100)\n",
      "(1873,)\n"
     ]
    },
    {
     "data": {
      "text/plain": [
       "(None, None)"
      ]
     },
     "execution_count": 33,
     "metadata": {},
     "output_type": "execute_result"
    }
   ],
   "source": [
    "print(X_train.shape), print(y_train.shape)"
   ]
  },
  {
   "cell_type": "code",
   "execution_count": 34,
   "id": "38d99f5d-9f6b-4510-b1b0-291a83c09c71",
   "metadata": {},
   "outputs": [],
   "source": [
    "X_train = X_train.reshape(X_train.shape[0],X_train.shape[1],1)\n",
    "X_test = X_test.reshape(X_test.shape[0],X_test.shape[1],1)"
   ]
  },
  {
   "cell_type": "code",
   "execution_count": 37,
   "id": "ceff4f6b-6836-48b7-94ad-62d5f0a1b922",
   "metadata": {},
   "outputs": [],
   "source": [
    "from tensorflow.keras.models import Sequential\n",
    "from tensorflow.keras.layers import Dense,Dropout\n",
    "from tensorflow.keras.layers import LSTM\n",
    "from tensorflow.keras.layers import Input\n",
    "from tensorflow.keras.models import Model"
   ]
  },
  {
   "cell_type": "code",
   "execution_count": 38,
   "id": "b0e1fa76-2b1e-47f3-bcb8-eeb779276935",
   "metadata": {},
   "outputs": [],
   "source": [
    "def buildModel(input_shape):\n",
    "    input_layer = Input(shape=input_shape)\n",
    "    model = LSTM(units=128,return_sequences=True)(input_layer)\n",
    "    model = Dropout(0.2)(model)\n",
    "    model = LSTM(units=128,return_sequences=True)(model)\n",
    "    model = Dropout(0.2)(model)\n",
    "    model = LSTM(units=128,return_sequences=False)(model)\n",
    "    model = Dropout(0.2)(model)\n",
    "    model = Dense(64,activation='relu')(model)\n",
    "    model = Dropout(0.2)(model)\n",
    "    model = Dense(64,activation='relu')(model)\n",
    "    output_layer = Dense(1)(model)\n",
    "    neuron = Model(inputs=input_layer,outputs=output_layer)\n",
    "    neuron.compile(loss='mean_squared_error',optimizer='adam')\n",
    "    return neuron"
   ]
  },
  {
   "cell_type": "code",
   "execution_count": 39,
   "id": "abc52ad7-5923-46d0-883c-da5b9ab26529",
   "metadata": {},
   "outputs": [
    {
     "data": {
      "text/html": [
       "<pre style=\"white-space:pre;overflow-x:auto;line-height:normal;font-family:Menlo,'DejaVu Sans Mono',consolas,'Courier New',monospace\"><span style=\"font-weight: bold\">Model: \"functional_3\"</span>\n",
       "</pre>\n"
      ],
      "text/plain": [
       "\u001b[1mModel: \"functional_3\"\u001b[0m\n"
      ]
     },
     "metadata": {},
     "output_type": "display_data"
    },
    {
     "data": {
      "text/html": [
       "<pre style=\"white-space:pre;overflow-x:auto;line-height:normal;font-family:Menlo,'DejaVu Sans Mono',consolas,'Courier New',monospace\">┏━━━━━━━━━━━━━━━━━━━━━━━━━━━━━━━━━┳━━━━━━━━━━━━━━━━━━━━━━━━┳━━━━━━━━━━━━━━━┓\n",
       "┃<span style=\"font-weight: bold\"> Layer (type)                    </span>┃<span style=\"font-weight: bold\"> Output Shape           </span>┃<span style=\"font-weight: bold\">       Param # </span>┃\n",
       "┡━━━━━━━━━━━━━━━━━━━━━━━━━━━━━━━━━╇━━━━━━━━━━━━━━━━━━━━━━━━╇━━━━━━━━━━━━━━━┩\n",
       "│ input_layer_2 (<span style=\"color: #0087ff; text-decoration-color: #0087ff\">InputLayer</span>)      │ (<span style=\"color: #00d7ff; text-decoration-color: #00d7ff\">None</span>, <span style=\"color: #00af00; text-decoration-color: #00af00\">100</span>, <span style=\"color: #00af00; text-decoration-color: #00af00\">1</span>)         │             <span style=\"color: #00af00; text-decoration-color: #00af00\">0</span> │\n",
       "├─────────────────────────────────┼────────────────────────┼───────────────┤\n",
       "│ lstm_4 (<span style=\"color: #0087ff; text-decoration-color: #0087ff\">LSTM</span>)                   │ (<span style=\"color: #00d7ff; text-decoration-color: #00d7ff\">None</span>, <span style=\"color: #00af00; text-decoration-color: #00af00\">100</span>, <span style=\"color: #00af00; text-decoration-color: #00af00\">128</span>)       │        <span style=\"color: #00af00; text-decoration-color: #00af00\">66,560</span> │\n",
       "├─────────────────────────────────┼────────────────────────┼───────────────┤\n",
       "│ dropout (<span style=\"color: #0087ff; text-decoration-color: #0087ff\">Dropout</span>)               │ (<span style=\"color: #00d7ff; text-decoration-color: #00d7ff\">None</span>, <span style=\"color: #00af00; text-decoration-color: #00af00\">100</span>, <span style=\"color: #00af00; text-decoration-color: #00af00\">128</span>)       │             <span style=\"color: #00af00; text-decoration-color: #00af00\">0</span> │\n",
       "├─────────────────────────────────┼────────────────────────┼───────────────┤\n",
       "│ lstm_5 (<span style=\"color: #0087ff; text-decoration-color: #0087ff\">LSTM</span>)                   │ (<span style=\"color: #00d7ff; text-decoration-color: #00d7ff\">None</span>, <span style=\"color: #00af00; text-decoration-color: #00af00\">100</span>, <span style=\"color: #00af00; text-decoration-color: #00af00\">128</span>)       │       <span style=\"color: #00af00; text-decoration-color: #00af00\">131,584</span> │\n",
       "├─────────────────────────────────┼────────────────────────┼───────────────┤\n",
       "│ dropout_1 (<span style=\"color: #0087ff; text-decoration-color: #0087ff\">Dropout</span>)             │ (<span style=\"color: #00d7ff; text-decoration-color: #00d7ff\">None</span>, <span style=\"color: #00af00; text-decoration-color: #00af00\">100</span>, <span style=\"color: #00af00; text-decoration-color: #00af00\">128</span>)       │             <span style=\"color: #00af00; text-decoration-color: #00af00\">0</span> │\n",
       "├─────────────────────────────────┼────────────────────────┼───────────────┤\n",
       "│ lstm_6 (<span style=\"color: #0087ff; text-decoration-color: #0087ff\">LSTM</span>)                   │ (<span style=\"color: #00d7ff; text-decoration-color: #00d7ff\">None</span>, <span style=\"color: #00af00; text-decoration-color: #00af00\">128</span>)            │       <span style=\"color: #00af00; text-decoration-color: #00af00\">131,584</span> │\n",
       "├─────────────────────────────────┼────────────────────────┼───────────────┤\n",
       "│ dropout_2 (<span style=\"color: #0087ff; text-decoration-color: #0087ff\">Dropout</span>)             │ (<span style=\"color: #00d7ff; text-decoration-color: #00d7ff\">None</span>, <span style=\"color: #00af00; text-decoration-color: #00af00\">128</span>)            │             <span style=\"color: #00af00; text-decoration-color: #00af00\">0</span> │\n",
       "├─────────────────────────────────┼────────────────────────┼───────────────┤\n",
       "│ dense_1 (<span style=\"color: #0087ff; text-decoration-color: #0087ff\">Dense</span>)                 │ (<span style=\"color: #00d7ff; text-decoration-color: #00d7ff\">None</span>, <span style=\"color: #00af00; text-decoration-color: #00af00\">64</span>)             │         <span style=\"color: #00af00; text-decoration-color: #00af00\">8,256</span> │\n",
       "├─────────────────────────────────┼────────────────────────┼───────────────┤\n",
       "│ dropout_3 (<span style=\"color: #0087ff; text-decoration-color: #0087ff\">Dropout</span>)             │ (<span style=\"color: #00d7ff; text-decoration-color: #00d7ff\">None</span>, <span style=\"color: #00af00; text-decoration-color: #00af00\">64</span>)             │             <span style=\"color: #00af00; text-decoration-color: #00af00\">0</span> │\n",
       "├─────────────────────────────────┼────────────────────────┼───────────────┤\n",
       "│ dense_2 (<span style=\"color: #0087ff; text-decoration-color: #0087ff\">Dense</span>)                 │ (<span style=\"color: #00d7ff; text-decoration-color: #00d7ff\">None</span>, <span style=\"color: #00af00; text-decoration-color: #00af00\">64</span>)             │         <span style=\"color: #00af00; text-decoration-color: #00af00\">4,160</span> │\n",
       "├─────────────────────────────────┼────────────────────────┼───────────────┤\n",
       "│ dense_3 (<span style=\"color: #0087ff; text-decoration-color: #0087ff\">Dense</span>)                 │ (<span style=\"color: #00d7ff; text-decoration-color: #00d7ff\">None</span>, <span style=\"color: #00af00; text-decoration-color: #00af00\">1</span>)              │            <span style=\"color: #00af00; text-decoration-color: #00af00\">65</span> │\n",
       "└─────────────────────────────────┴────────────────────────┴───────────────┘\n",
       "</pre>\n"
      ],
      "text/plain": [
       "┏━━━━━━━━━━━━━━━━━━━━━━━━━━━━━━━━━┳━━━━━━━━━━━━━━━━━━━━━━━━┳━━━━━━━━━━━━━━━┓\n",
       "┃\u001b[1m \u001b[0m\u001b[1mLayer (type)                   \u001b[0m\u001b[1m \u001b[0m┃\u001b[1m \u001b[0m\u001b[1mOutput Shape          \u001b[0m\u001b[1m \u001b[0m┃\u001b[1m \u001b[0m\u001b[1m      Param #\u001b[0m\u001b[1m \u001b[0m┃\n",
       "┡━━━━━━━━━━━━━━━━━━━━━━━━━━━━━━━━━╇━━━━━━━━━━━━━━━━━━━━━━━━╇━━━━━━━━━━━━━━━┩\n",
       "│ input_layer_2 (\u001b[38;5;33mInputLayer\u001b[0m)      │ (\u001b[38;5;45mNone\u001b[0m, \u001b[38;5;34m100\u001b[0m, \u001b[38;5;34m1\u001b[0m)         │             \u001b[38;5;34m0\u001b[0m │\n",
       "├─────────────────────────────────┼────────────────────────┼───────────────┤\n",
       "│ lstm_4 (\u001b[38;5;33mLSTM\u001b[0m)                   │ (\u001b[38;5;45mNone\u001b[0m, \u001b[38;5;34m100\u001b[0m, \u001b[38;5;34m128\u001b[0m)       │        \u001b[38;5;34m66,560\u001b[0m │\n",
       "├─────────────────────────────────┼────────────────────────┼───────────────┤\n",
       "│ dropout (\u001b[38;5;33mDropout\u001b[0m)               │ (\u001b[38;5;45mNone\u001b[0m, \u001b[38;5;34m100\u001b[0m, \u001b[38;5;34m128\u001b[0m)       │             \u001b[38;5;34m0\u001b[0m │\n",
       "├─────────────────────────────────┼────────────────────────┼───────────────┤\n",
       "│ lstm_5 (\u001b[38;5;33mLSTM\u001b[0m)                   │ (\u001b[38;5;45mNone\u001b[0m, \u001b[38;5;34m100\u001b[0m, \u001b[38;5;34m128\u001b[0m)       │       \u001b[38;5;34m131,584\u001b[0m │\n",
       "├─────────────────────────────────┼────────────────────────┼───────────────┤\n",
       "│ dropout_1 (\u001b[38;5;33mDropout\u001b[0m)             │ (\u001b[38;5;45mNone\u001b[0m, \u001b[38;5;34m100\u001b[0m, \u001b[38;5;34m128\u001b[0m)       │             \u001b[38;5;34m0\u001b[0m │\n",
       "├─────────────────────────────────┼────────────────────────┼───────────────┤\n",
       "│ lstm_6 (\u001b[38;5;33mLSTM\u001b[0m)                   │ (\u001b[38;5;45mNone\u001b[0m, \u001b[38;5;34m128\u001b[0m)            │       \u001b[38;5;34m131,584\u001b[0m │\n",
       "├─────────────────────────────────┼────────────────────────┼───────────────┤\n",
       "│ dropout_2 (\u001b[38;5;33mDropout\u001b[0m)             │ (\u001b[38;5;45mNone\u001b[0m, \u001b[38;5;34m128\u001b[0m)            │             \u001b[38;5;34m0\u001b[0m │\n",
       "├─────────────────────────────────┼────────────────────────┼───────────────┤\n",
       "│ dense_1 (\u001b[38;5;33mDense\u001b[0m)                 │ (\u001b[38;5;45mNone\u001b[0m, \u001b[38;5;34m64\u001b[0m)             │         \u001b[38;5;34m8,256\u001b[0m │\n",
       "├─────────────────────────────────┼────────────────────────┼───────────────┤\n",
       "│ dropout_3 (\u001b[38;5;33mDropout\u001b[0m)             │ (\u001b[38;5;45mNone\u001b[0m, \u001b[38;5;34m64\u001b[0m)             │             \u001b[38;5;34m0\u001b[0m │\n",
       "├─────────────────────────────────┼────────────────────────┼───────────────┤\n",
       "│ dense_2 (\u001b[38;5;33mDense\u001b[0m)                 │ (\u001b[38;5;45mNone\u001b[0m, \u001b[38;5;34m64\u001b[0m)             │         \u001b[38;5;34m4,160\u001b[0m │\n",
       "├─────────────────────────────────┼────────────────────────┼───────────────┤\n",
       "│ dense_3 (\u001b[38;5;33mDense\u001b[0m)                 │ (\u001b[38;5;45mNone\u001b[0m, \u001b[38;5;34m1\u001b[0m)              │            \u001b[38;5;34m65\u001b[0m │\n",
       "└─────────────────────────────────┴────────────────────────┴───────────────┘\n"
      ]
     },
     "metadata": {},
     "output_type": "display_data"
    },
    {
     "data": {
      "text/html": [
       "<pre style=\"white-space:pre;overflow-x:auto;line-height:normal;font-family:Menlo,'DejaVu Sans Mono',consolas,'Courier New',monospace\"><span style=\"font-weight: bold\"> Total params: </span><span style=\"color: #00af00; text-decoration-color: #00af00\">342,209</span> (1.31 MB)\n",
       "</pre>\n"
      ],
      "text/plain": [
       "\u001b[1m Total params: \u001b[0m\u001b[38;5;34m342,209\u001b[0m (1.31 MB)\n"
      ]
     },
     "metadata": {},
     "output_type": "display_data"
    },
    {
     "data": {
      "text/html": [
       "<pre style=\"white-space:pre;overflow-x:auto;line-height:normal;font-family:Menlo,'DejaVu Sans Mono',consolas,'Courier New',monospace\"><span style=\"font-weight: bold\"> Trainable params: </span><span style=\"color: #00af00; text-decoration-color: #00af00\">342,209</span> (1.31 MB)\n",
       "</pre>\n"
      ],
      "text/plain": [
       "\u001b[1m Trainable params: \u001b[0m\u001b[38;5;34m342,209\u001b[0m (1.31 MB)\n"
      ]
     },
     "metadata": {},
     "output_type": "display_data"
    },
    {
     "data": {
      "text/html": [
       "<pre style=\"white-space:pre;overflow-x:auto;line-height:normal;font-family:Menlo,'DejaVu Sans Mono',consolas,'Courier New',monospace\"><span style=\"font-weight: bold\"> Non-trainable params: </span><span style=\"color: #00af00; text-decoration-color: #00af00\">0</span> (0.00 B)\n",
       "</pre>\n"
      ],
      "text/plain": [
       "\u001b[1m Non-trainable params: \u001b[0m\u001b[38;5;34m0\u001b[0m (0.00 B)\n"
      ]
     },
     "metadata": {},
     "output_type": "display_data"
    }
   ],
   "source": [
    "clf = buildModel((100,1))\n",
    "clf.summary()"
   ]
  },
  {
   "cell_type": "code",
   "execution_count": 40,
   "id": "10b99c48-78bc-4428-b37f-c0cbde70a9f6",
   "metadata": {},
   "outputs": [
    {
     "name": "stdout",
     "output_type": "stream",
     "text": [
      "Epoch 1/50\n",
      "\u001b[1m30/30\u001b[0m \u001b[32m━━━━━━━━━━━━━━━━━━━━\u001b[0m\u001b[37m\u001b[0m \u001b[1m12s\u001b[0m 335ms/step - loss: 0.0566 - val_loss: 0.0020\n",
      "Epoch 2/50\n",
      "\u001b[1m30/30\u001b[0m \u001b[32m━━━━━━━━━━━━━━━━━━━━\u001b[0m\u001b[37m\u001b[0m \u001b[1m10s\u001b[0m 326ms/step - loss: 0.0038 - val_loss: 0.0087\n",
      "Epoch 3/50\n",
      "\u001b[1m30/30\u001b[0m \u001b[32m━━━━━━━━━━━━━━━━━━━━\u001b[0m\u001b[37m\u001b[0m \u001b[1m10s\u001b[0m 343ms/step - loss: 0.0027 - val_loss: 0.0156\n",
      "Epoch 4/50\n",
      "\u001b[1m30/30\u001b[0m \u001b[32m━━━━━━━━━━━━━━━━━━━━\u001b[0m\u001b[37m\u001b[0m \u001b[1m10s\u001b[0m 327ms/step - loss: 0.0023 - val_loss: 0.0319\n",
      "Epoch 5/50\n",
      "\u001b[1m30/30\u001b[0m \u001b[32m━━━━━━━━━━━━━━━━━━━━\u001b[0m\u001b[37m\u001b[0m \u001b[1m10s\u001b[0m 339ms/step - loss: 0.0023 - val_loss: 0.0183\n",
      "Epoch 6/50\n",
      "\u001b[1m30/30\u001b[0m \u001b[32m━━━━━━━━━━━━━━━━━━━━\u001b[0m\u001b[37m\u001b[0m \u001b[1m11s\u001b[0m 379ms/step - loss: 0.0025 - val_loss: 0.0219\n",
      "Epoch 7/50\n",
      "\u001b[1m30/30\u001b[0m \u001b[32m━━━━━━━━━━━━━━━━━━━━\u001b[0m\u001b[37m\u001b[0m \u001b[1m10s\u001b[0m 341ms/step - loss: 0.0016 - val_loss: 0.0070\n",
      "Epoch 8/50\n",
      "\u001b[1m30/30\u001b[0m \u001b[32m━━━━━━━━━━━━━━━━━━━━\u001b[0m\u001b[37m\u001b[0m \u001b[1m11s\u001b[0m 353ms/step - loss: 0.0014 - val_loss: 0.0250\n",
      "Epoch 9/50\n",
      "\u001b[1m30/30\u001b[0m \u001b[32m━━━━━━━━━━━━━━━━━━━━\u001b[0m\u001b[37m\u001b[0m \u001b[1m10s\u001b[0m 342ms/step - loss: 0.0014 - val_loss: 0.0376\n",
      "Epoch 10/50\n",
      "\u001b[1m30/30\u001b[0m \u001b[32m━━━━━━━━━━━━━━━━━━━━\u001b[0m\u001b[37m\u001b[0m \u001b[1m11s\u001b[0m 360ms/step - loss: 0.0019 - val_loss: 0.0191\n",
      "Epoch 11/50\n",
      "\u001b[1m30/30\u001b[0m \u001b[32m━━━━━━━━━━━━━━━━━━━━\u001b[0m\u001b[37m\u001b[0m \u001b[1m11s\u001b[0m 365ms/step - loss: 0.0013 - val_loss: 0.0076\n",
      "Epoch 12/50\n",
      "\u001b[1m30/30\u001b[0m \u001b[32m━━━━━━━━━━━━━━━━━━━━\u001b[0m\u001b[37m\u001b[0m \u001b[1m11s\u001b[0m 356ms/step - loss: 0.0017 - val_loss: 0.0376\n",
      "Epoch 13/50\n",
      "\u001b[1m30/30\u001b[0m \u001b[32m━━━━━━━━━━━━━━━━━━━━\u001b[0m\u001b[37m\u001b[0m \u001b[1m11s\u001b[0m 369ms/step - loss: 0.0015 - val_loss: 0.0265\n",
      "Epoch 14/50\n",
      "\u001b[1m30/30\u001b[0m \u001b[32m━━━━━━━━━━━━━━━━━━━━\u001b[0m\u001b[37m\u001b[0m \u001b[1m11s\u001b[0m 373ms/step - loss: 0.0014 - val_loss: 0.0156\n",
      "Epoch 15/50\n",
      "\u001b[1m30/30\u001b[0m \u001b[32m━━━━━━━━━━━━━━━━━━━━\u001b[0m\u001b[37m\u001b[0m \u001b[1m11s\u001b[0m 366ms/step - loss: 0.0012 - val_loss: 0.0182\n",
      "Epoch 16/50\n",
      "\u001b[1m30/30\u001b[0m \u001b[32m━━━━━━━━━━━━━━━━━━━━\u001b[0m\u001b[37m\u001b[0m \u001b[1m11s\u001b[0m 368ms/step - loss: 0.0011 - val_loss: 0.0095\n",
      "Epoch 17/50\n",
      "\u001b[1m30/30\u001b[0m \u001b[32m━━━━━━━━━━━━━━━━━━━━\u001b[0m\u001b[37m\u001b[0m \u001b[1m12s\u001b[0m 385ms/step - loss: 0.0013 - val_loss: 0.0203\n",
      "Epoch 18/50\n",
      "\u001b[1m30/30\u001b[0m \u001b[32m━━━━━━━━━━━━━━━━━━━━\u001b[0m\u001b[37m\u001b[0m \u001b[1m12s\u001b[0m 382ms/step - loss: 0.0011 - val_loss: 0.0136\n",
      "Epoch 19/50\n",
      "\u001b[1m30/30\u001b[0m \u001b[32m━━━━━━━━━━━━━━━━━━━━\u001b[0m\u001b[37m\u001b[0m \u001b[1m11s\u001b[0m 374ms/step - loss: 0.0014 - val_loss: 0.0031\n",
      "Epoch 20/50\n",
      "\u001b[1m30/30\u001b[0m \u001b[32m━━━━━━━━━━━━━━━━━━━━\u001b[0m\u001b[37m\u001b[0m \u001b[1m12s\u001b[0m 389ms/step - loss: 0.0020 - val_loss: 0.0138\n",
      "Epoch 21/50\n",
      "\u001b[1m30/30\u001b[0m \u001b[32m━━━━━━━━━━━━━━━━━━━━\u001b[0m\u001b[37m\u001b[0m \u001b[1m11s\u001b[0m 381ms/step - loss: 0.0012 - val_loss: 0.0126\n",
      "Epoch 22/50\n",
      "\u001b[1m30/30\u001b[0m \u001b[32m━━━━━━━━━━━━━━━━━━━━\u001b[0m\u001b[37m\u001b[0m \u001b[1m13s\u001b[0m 433ms/step - loss: 9.7302e-04 - val_loss: 0.0104\n",
      "Epoch 23/50\n",
      "\u001b[1m30/30\u001b[0m \u001b[32m━━━━━━━━━━━━━━━━━━━━\u001b[0m\u001b[37m\u001b[0m \u001b[1m12s\u001b[0m 400ms/step - loss: 8.6636e-04 - val_loss: 0.0112\n",
      "Epoch 24/50\n",
      "\u001b[1m30/30\u001b[0m \u001b[32m━━━━━━━━━━━━━━━━━━━━\u001b[0m\u001b[37m\u001b[0m \u001b[1m17s\u001b[0m 561ms/step - loss: 9.0821e-04 - val_loss: 0.0201\n",
      "Epoch 25/50\n",
      "\u001b[1m30/30\u001b[0m \u001b[32m━━━━━━━━━━━━━━━━━━━━\u001b[0m\u001b[37m\u001b[0m \u001b[1m13s\u001b[0m 425ms/step - loss: 9.5196e-04 - val_loss: 0.0192\n",
      "Epoch 26/50\n",
      "\u001b[1m30/30\u001b[0m \u001b[32m━━━━━━━━━━━━━━━━━━━━\u001b[0m\u001b[37m\u001b[0m \u001b[1m11s\u001b[0m 358ms/step - loss: 9.1282e-04 - val_loss: 0.0129\n",
      "Epoch 27/50\n",
      "\u001b[1m30/30\u001b[0m \u001b[32m━━━━━━━━━━━━━━━━━━━━\u001b[0m\u001b[37m\u001b[0m \u001b[1m11s\u001b[0m 362ms/step - loss: 9.9996e-04 - val_loss: 0.0154\n",
      "Epoch 28/50\n",
      "\u001b[1m30/30\u001b[0m \u001b[32m━━━━━━━━━━━━━━━━━━━━\u001b[0m\u001b[37m\u001b[0m \u001b[1m11s\u001b[0m 359ms/step - loss: 8.8073e-04 - val_loss: 0.0124\n",
      "Epoch 29/50\n",
      "\u001b[1m30/30\u001b[0m \u001b[32m━━━━━━━━━━━━━━━━━━━━\u001b[0m\u001b[37m\u001b[0m \u001b[1m11s\u001b[0m 377ms/step - loss: 7.9945e-04 - val_loss: 0.0227\n",
      "Epoch 30/50\n",
      "\u001b[1m30/30\u001b[0m \u001b[32m━━━━━━━━━━━━━━━━━━━━\u001b[0m\u001b[37m\u001b[0m \u001b[1m11s\u001b[0m 365ms/step - loss: 9.9807e-04 - val_loss: 0.0100\n",
      "Epoch 31/50\n",
      "\u001b[1m30/30\u001b[0m \u001b[32m━━━━━━━━━━━━━━━━━━━━\u001b[0m\u001b[37m\u001b[0m \u001b[1m11s\u001b[0m 363ms/step - loss: 8.6729e-04 - val_loss: 0.0163\n",
      "Epoch 32/50\n",
      "\u001b[1m30/30\u001b[0m \u001b[32m━━━━━━━━━━━━━━━━━━━━\u001b[0m\u001b[37m\u001b[0m \u001b[1m12s\u001b[0m 386ms/step - loss: 7.6740e-04 - val_loss: 0.0235\n",
      "Epoch 33/50\n",
      "\u001b[1m30/30\u001b[0m \u001b[32m━━━━━━━━━━━━━━━━━━━━\u001b[0m\u001b[37m\u001b[0m \u001b[1m12s\u001b[0m 418ms/step - loss: 8.1473e-04 - val_loss: 0.0163\n",
      "Epoch 34/50\n",
      "\u001b[1m30/30\u001b[0m \u001b[32m━━━━━━━━━━━━━━━━━━━━\u001b[0m\u001b[37m\u001b[0m \u001b[1m13s\u001b[0m 428ms/step - loss: 7.2850e-04 - val_loss: 0.0198\n",
      "Epoch 35/50\n",
      "\u001b[1m30/30\u001b[0m \u001b[32m━━━━━━━━━━━━━━━━━━━━\u001b[0m\u001b[37m\u001b[0m \u001b[1m14s\u001b[0m 451ms/step - loss: 9.3193e-04 - val_loss: 0.0177\n",
      "Epoch 36/50\n",
      "\u001b[1m30/30\u001b[0m \u001b[32m━━━━━━━━━━━━━━━━━━━━\u001b[0m\u001b[37m\u001b[0m \u001b[1m13s\u001b[0m 431ms/step - loss: 7.9390e-04 - val_loss: 0.0105\n",
      "Epoch 37/50\n",
      "\u001b[1m30/30\u001b[0m \u001b[32m━━━━━━━━━━━━━━━━━━━━\u001b[0m\u001b[37m\u001b[0m \u001b[1m12s\u001b[0m 415ms/step - loss: 7.3700e-04 - val_loss: 0.0141\n",
      "Epoch 38/50\n",
      "\u001b[1m30/30\u001b[0m \u001b[32m━━━━━━━━━━━━━━━━━━━━\u001b[0m\u001b[37m\u001b[0m \u001b[1m14s\u001b[0m 475ms/step - loss: 7.7867e-04 - val_loss: 0.0225\n",
      "Epoch 39/50\n",
      "\u001b[1m30/30\u001b[0m \u001b[32m━━━━━━━━━━━━━━━━━━━━\u001b[0m\u001b[37m\u001b[0m \u001b[1m12s\u001b[0m 396ms/step - loss: 0.0011 - val_loss: 0.0150\n",
      "Epoch 40/50\n",
      "\u001b[1m30/30\u001b[0m \u001b[32m━━━━━━━━━━━━━━━━━━━━\u001b[0m\u001b[37m\u001b[0m \u001b[1m15s\u001b[0m 499ms/step - loss: 6.2795e-04 - val_loss: 0.0090\n",
      "Epoch 41/50\n",
      "\u001b[1m30/30\u001b[0m \u001b[32m━━━━━━━━━━━━━━━━━━━━\u001b[0m\u001b[37m\u001b[0m \u001b[1m18s\u001b[0m 594ms/step - loss: 6.9185e-04 - val_loss: 0.0136\n",
      "Epoch 42/50\n",
      "\u001b[1m30/30\u001b[0m \u001b[32m━━━━━━━━━━━━━━━━━━━━\u001b[0m\u001b[37m\u001b[0m \u001b[1m12s\u001b[0m 407ms/step - loss: 7.0425e-04 - val_loss: 0.0159\n",
      "Epoch 43/50\n",
      "\u001b[1m30/30\u001b[0m \u001b[32m━━━━━━━━━━━━━━━━━━━━\u001b[0m\u001b[37m\u001b[0m \u001b[1m18s\u001b[0m 605ms/step - loss: 6.0480e-04 - val_loss: 0.0138\n",
      "Epoch 44/50\n",
      "\u001b[1m30/30\u001b[0m \u001b[32m━━━━━━━━━━━━━━━━━━━━\u001b[0m\u001b[37m\u001b[0m \u001b[1m18s\u001b[0m 616ms/step - loss: 7.4107e-04 - val_loss: 0.0045\n",
      "Epoch 45/50\n",
      "\u001b[1m30/30\u001b[0m \u001b[32m━━━━━━━━━━━━━━━━━━━━\u001b[0m\u001b[37m\u001b[0m \u001b[1m11s\u001b[0m 380ms/step - loss: 9.2291e-04 - val_loss: 0.0083\n",
      "Epoch 46/50\n",
      "\u001b[1m30/30\u001b[0m \u001b[32m━━━━━━━━━━━━━━━━━━━━\u001b[0m\u001b[37m\u001b[0m \u001b[1m15s\u001b[0m 513ms/step - loss: 7.7352e-04 - val_loss: 0.0131\n",
      "Epoch 47/50\n",
      "\u001b[1m30/30\u001b[0m \u001b[32m━━━━━━━━━━━━━━━━━━━━\u001b[0m\u001b[37m\u001b[0m \u001b[1m14s\u001b[0m 475ms/step - loss: 8.1893e-04 - val_loss: 0.0188\n",
      "Epoch 48/50\n",
      "\u001b[1m30/30\u001b[0m \u001b[32m━━━━━━━━━━━━━━━━━━━━\u001b[0m\u001b[37m\u001b[0m \u001b[1m13s\u001b[0m 450ms/step - loss: 9.2306e-04 - val_loss: 0.0254\n",
      "Epoch 49/50\n",
      "\u001b[1m30/30\u001b[0m \u001b[32m━━━━━━━━━━━━━━━━━━━━\u001b[0m\u001b[37m\u001b[0m \u001b[1m13s\u001b[0m 434ms/step - loss: 8.5597e-04 - val_loss: 0.0107\n",
      "Epoch 50/50\n",
      "\u001b[1m30/30\u001b[0m \u001b[32m━━━━━━━━━━━━━━━━━━━━\u001b[0m\u001b[37m\u001b[0m \u001b[1m11s\u001b[0m 377ms/step - loss: 6.8893e-04 - val_loss: 0.0122\n"
     ]
    }
   ],
   "source": [
    "hist = clf.fit(X_train,y_train,validation_data=(X_test,y_test),epochs=50,batch_size=64)"
   ]
  },
  {
   "cell_type": "code",
   "execution_count": 41,
   "id": "d7551939-9b06-4714-bda1-82b572a80965",
   "metadata": {},
   "outputs": [
    {
     "data": {
      "image/png": "[encoded data removed]",
      "text/plain": [
       "<Figure size 640x480 with 1 Axes>"
      ]
     },
     "metadata": {},
     "output_type": "display_data"
    }
   ],
   "source": [
    "plt.plot(hist.history['loss'],label='Training Loss')\n",
    "plt.plot(hist.history['val_loss'],label='Validation Loss')\n",
    "plt.legend()\n",
    "plt.show()"
   ]
  },
  {
   "cell_type": "code",
   "execution_count": 42,
   "id": "20ef104f-607d-4b5a-a38c-92b9b271fd68",
   "metadata": {},
   "outputs": [
    {
     "name": "stdout",
     "output_type": "stream",
     "text": [
      "\u001b[1m59/59\u001b[0m \u001b[32m━━━━━━━━━━━━━━━━━━━━\u001b[0m\u001b[37m\u001b[0m \u001b[1m2s\u001b[0m 19ms/step\n",
      "\u001b[1m13/13\u001b[0m \u001b[32m━━━━━━━━━━━━━━━━━━━━\u001b[0m\u001b[37m\u001b[0m \u001b[1m0s\u001b[0m 18ms/step\n"
     ]
    }
   ],
   "source": [
    "train_predict=model.predict(X_train)\n",
    "test_predict=model.predict(X_test)"
   ]
  },
  {
   "cell_type": "code",
   "execution_count": 43,
   "id": "37b1ff1b-2410-40e5-8abd-38f21349c265",
   "metadata": {},
   "outputs": [],
   "source": [
    "train_predict=scaler.inverse_transform(train_predict)\n",
    "test_predict=scaler.inverse_transform(test_predict)"
   ]
  },
  {
   "cell_type": "code",
   "execution_count": 44,
   "id": "eed7cc29-b153-40b3-abc8-0de89d09b3e0",
   "metadata": {},
   "outputs": [
    {
     "data": {
      "text/plain": [
       "60.49233106967314"
      ]
     },
     "execution_count": 44,
     "metadata": {},
     "output_type": "execute_result"
    }
   ],
   "source": [
    "import math\n",
    "from sklearn.metrics import mean_squared_error\n",
    "math.sqrt(mean_squared_error(y_train,train_predict))"
   ]
  },
  {
   "cell_type": "code",
   "execution_count": 45,
   "id": "52f38cd9-b5cd-4df5-a0ae-eb7b239f0d2e",
   "metadata": {},
   "outputs": [
    {
     "data": {
      "text/plain": [
       "117.18439269651704"
      ]
     },
     "execution_count": 45,
     "metadata": {},
     "output_type": "execute_result"
    }
   ],
   "source": [
    "math.sqrt(mean_squared_error(y_test,test_predict))"
   ]
  },
  {
   "cell_type": "code",
   "execution_count": 46,
   "id": "c2fb86f3-3dd0-4695-a3a9-e380a50c97a0",
   "metadata": {},
   "outputs": [
    {
     "name": "stdout",
     "output_type": "stream",
     "text": [
      "53.094265768503725 48424864248682.766\n"
     ]
    }
   ],
   "source": [
    "from sklearn.metrics import mean_absolute_error,mean_absolute_percentage_error\n",
    "mae = mean_absolute_error(y_train,train_predict)\n",
    "maep = mean_absolute_percentage_error(y_train,train_predict)\n",
    "print(mae,maep)"
   ]
  },
  {
   "cell_type": "code",
   "execution_count": 47,
   "id": "e5652225-8097-466b-86e4-00400f2cead2",
   "metadata": {},
   "outputs": [
    {
     "name": "stdout",
     "output_type": "stream",
     "text": [
      "116.55088231848403 162.64322428893078\n"
     ]
    }
   ],
   "source": [
    "mae_pred = mean_absolute_error(y_test,test_predict)\n",
    "maep_pred = mean_absolute_percentage_error(y_test,test_predict)\n",
    "print(mae_pred,maep_pred)"
   ]
  },
  {
   "cell_type": "code",
   "execution_count": 48,
   "id": "82f1ca06-7c55-4ebe-90f2-f4b204ba3f2c",
   "metadata": {},
   "outputs": [
    {
     "data": {
      "image/png": "[encoded data removed]",
      "text/plain": [
       "<Figure size 640x480 with 1 Axes>"
      ]
     },
     "metadata": {},
     "output_type": "display_data"
    }
   ],
   "source": [
    "look_back=100\n",
    "trainPredictPlot = np.empty_like(cop)\n",
    "trainPredictPlot[:, :] = np.nan\n",
    "trainPredictPlot[look_back:len(train_predict)+look_back, :] = train_predict\n",
    "# shift test predictions for plotting\n",
    "testPredictPlot = np.empty_like(cop)\n",
    "testPredictPlot[:, :] = np.nan\n",
    "testPredictPlot[len(train_predict)+(look_back*2)+1:len(cop)-1, :] = test_predict\n",
    "# plot baseline and predictions\n",
    "plt.plot(scaler.inverse_transform(cop))\n",
    "plt.plot(trainPredictPlot)\n",
    "plt.plot(testPredictPlot)\n",
    "plt.show()\n"
   ]
  },
  {
   "cell_type": "code",
   "execution_count": 49,
   "id": "48b06b50-2e4d-464a-97c2-8b828d5c9cf2",
   "metadata": {},
   "outputs": [
    {
     "data": {
      "text/plain": [
       "494"
      ]
     },
     "execution_count": 49,
     "metadata": {},
     "output_type": "execute_result"
    }
   ],
   "source": [
    "len(test_data)"
   ]
  },
  {
   "cell_type": "code",
   "execution_count": 50,
   "id": "45562890-3b8b-4a24-9a80-5fd1f697fc31",
   "metadata": {},
   "outputs": [
    {
     "data": {
      "text/plain": [
       "(1, 100)"
      ]
     },
     "execution_count": 50,
     "metadata": {},
     "output_type": "execute_result"
    }
   ],
   "source": [
    "x_input = test_data[394:].reshape(1,-1)\n",
    "x_input.shape"
   ]
  },
  {
   "cell_type": "code",
   "execution_count": 51,
   "id": "fd160e7a-9210-46ba-8762-97a81764b740",
   "metadata": {},
   "outputs": [],
   "source": [
    "temp_in = list(x_input)\n",
    "temp_in = temp_in[0].tolist()"
   ]
  },
  {
   "cell_type": "code",
   "execution_count": 52,
   "id": "32b56c89-144d-4c81-a60c-570e13f38449",
   "metadata": {},
   "outputs": [
    {
     "data": {
      "text/plain": [
       "[0.7083363302884268,\n",
       " 0.7194850032367115,\n",
       " 0.7133712148457166,\n",
       " 0.7284758685175861,\n",
       " 0.730993310796231,\n",
       " 0.7259584262389411,\n",
       " 0.730633676184996,\n",
       " 0.7335107530748758,\n",
       " 0.7389052722434006,\n",
       " 0.7396245414658706,\n",
       " 0.7615622527512047,\n",
       " 0.7665971373084945,\n",
       " 0.7698338488096094,\n",
       " 0.7647989642523196,\n",
       " 0.777745810256779,\n",
       " 0.776666906423074,\n",
       " 0.780982521757894,\n",
       " 0.7752283679781342,\n",
       " 0.7820614255915989,\n",
       " 0.7881752139825936,\n",
       " 0.7899733870387685,\n",
       " 0.8043587714881678,\n",
       " 0.8115514637128676,\n",
       " 0.8162267136589224,\n",
       " 0.8176652521038624,\n",
       " 0.8047184060994029,\n",
       " 0.7989642523196431,\n",
       " 0.805078040710638,\n",
       " 0.8057973099331079,\n",
       " 0.8144285406027475,\n",
       " 0.8191037905488023,\n",
       " 0.8507516363374811,\n",
       " 0.852190174782421,\n",
       " 0.8435589441127814,\n",
       " 0.8025605984319929,\n",
       " 0.8119110983241027,\n",
       " 0.8298928288858519,\n",
       " 0.8421204056678413,\n",
       " 0.8561461555060058,\n",
       " 0.8633388477307056,\n",
       " 0.87304898223405,\n",
       " 0.8759260591239301,\n",
       " 0.8734086168452851,\n",
       " 0.8428396748903114,\n",
       " 0.8352873480543767,\n",
       " 0.8309717327195569,\n",
       " 0.8194634251600375,\n",
       " 0.8309717327195569,\n",
       " 0.8342084442206716,\n",
       " 0.8399625980004315,\n",
       " 0.8428396748903114,\n",
       " 0.8403222326116664,\n",
       " 0.8568654247284758,\n",
       " 0.8165863482701575,\n",
       " 0.8122707329353377,\n",
       " 0.8349277134431417,\n",
       " 0.8327699057757318,\n",
       " 0.8054376753218728,\n",
       " 0.8417607710566064,\n",
       " 0.8309717327195569,\n",
       " 0.8406818672229015,\n",
       " 0.8385240595554915,\n",
       " 0.8471552902251313,\n",
       " 0.8392433287779616,\n",
       " 0.8672948284542903,\n",
       " 0.8874343666834495,\n",
       " 0.9104509818024885,\n",
       " 0.9079335395238436,\n",
       " 0.9032582895777889,\n",
       " 0.8859958282385098,\n",
       " 0.8579443285621808,\n",
       " 0.8615406746745307,\n",
       " 0.8849169244048046,\n",
       " 0.8852765590160395,\n",
       " 0.8935481550744443,\n",
       " 0.8903114435733294,\n",
       " 0.8841976551823348,\n",
       " 0.9043371934114938,\n",
       " 0.9187225778608933,\n",
       " 0.9162051355822484,\n",
       " 0.8953463281306192,\n",
       " 0.9064950010789038,\n",
       " 0.8820398475149248,\n",
       " 0.8831187513486297,\n",
       " 0.948572250593397,\n",
       " 0.9856146155506006,\n",
       " 0.970869596489966,\n",
       " 0.9618787312090914,\n",
       " 0.9582823850967416,\n",
       " 0.9999999999999999,\n",
       " 0.973746673379846,\n",
       " 0.9661943465439112,\n",
       " 0.9018197511328488,\n",
       " 0.8946270589081492,\n",
       " 0.8877940012946847,\n",
       " 0.9456951737035172,\n",
       " 0.9388621160900524,\n",
       " 0.9176436740271882,\n",
       " 0.9496511544271021,\n",
       " 0.9593612889304465]"
      ]
     },
     "execution_count": 52,
     "metadata": {},
     "output_type": "execute_result"
    }
   ],
   "source": [
    "temp_in"
   ]
  },
  {
   "cell_type": "code",
   "execution_count": 53,
   "id": "7bdd273a-daa4-410e-a6ac-a2e13a0782e9",
   "metadata": {},
   "outputs": [
    {
     "name": "stdout",
     "output_type": "stream",
     "text": [
      "[0.9294197]\n",
      "101\n",
      "1 day input [0.719485   0.71337121 0.72847587 0.73099331 0.72595843 0.73063368\n",
      " 0.73351075 0.73890527 0.73962454 0.76156225 0.76659714 0.76983385\n",
      " 0.76479896 0.77774581 0.77666691 0.78098252 0.77522837 0.78206143\n",
      " 0.78817521 0.78997339 0.80435877 0.81155146 0.81622671 0.81766525\n",
      " 0.80471841 0.79896425 0.80507804 0.80579731 0.81442854 0.81910379\n",
      " 0.85075164 0.85219017 0.84355894 0.8025606  0.8119111  0.82989283\n",
      " 0.84212041 0.85614616 0.86333885 0.87304898 0.87592606 0.87340862\n",
      " 0.84283967 0.83528735 0.83097173 0.81946343 0.83097173 0.83420844\n",
      " 0.8399626  0.84283967 0.84032223 0.85686542 0.81658635 0.81227073\n",
      " 0.83492771 0.83276991 0.80543768 0.84176077 0.83097173 0.84068187\n",
      " 0.83852406 0.84715529 0.83924333 0.86729483 0.88743437 0.91045098\n",
      " 0.90793354 0.90325829 0.88599583 0.85794433 0.86154067 0.88491692\n",
      " 0.88527656 0.89354816 0.89031144 0.88419766 0.90433719 0.91872258\n",
      " 0.91620514 0.89534633 0.906495   0.88203985 0.88311875 0.94857225\n",
      " 0.98561462 0.9708696  0.96187873 0.95828239 1.         0.97374667\n",
      " 0.96619435 0.90181975 0.89462706 0.887794   0.94569517 0.93886212\n",
      " 0.91764367 0.94965115 0.95936129 0.9294197 ]\n",
      "1 day output [[0.89529383]]\n",
      "2 day input [0.71337121 0.72847587 0.73099331 0.72595843 0.73063368 0.73351075\n",
      " 0.73890527 0.73962454 0.76156225 0.76659714 0.76983385 0.76479896\n",
      " 0.77774581 0.77666691 0.78098252 0.77522837 0.78206143 0.78817521\n",
      " 0.78997339 0.80435877 0.81155146 0.81622671 0.81766525 0.80471841\n",
      " 0.79896425 0.80507804 0.80579731 0.81442854 0.81910379 0.85075164\n",
      " 0.85219017 0.84355894 0.8025606  0.8119111  0.82989283 0.84212041\n",
      " 0.85614616 0.86333885 0.87304898 0.87592606 0.87340862 0.84283967\n",
      " 0.83528735 0.83097173 0.81946343 0.83097173 0.83420844 0.8399626\n",
      " 0.84283967 0.84032223 0.85686542 0.81658635 0.81227073 0.83492771\n",
      " 0.83276991 0.80543768 0.84176077 0.83097173 0.84068187 0.83852406\n",
      " 0.84715529 0.83924333 0.86729483 0.88743437 0.91045098 0.90793354\n",
      " 0.90325829 0.88599583 0.85794433 0.86154067 0.88491692 0.88527656\n",
      " 0.89354816 0.89031144 0.88419766 0.90433719 0.91872258 0.91620514\n",
      " 0.89534633 0.906495   0.88203985 0.88311875 0.94857225 0.98561462\n",
      " 0.9708696  0.96187873 0.95828239 1.         0.97374667 0.96619435\n",
      " 0.90181975 0.89462706 0.887794   0.94569517 0.93886212 0.91764367\n",
      " 0.94965115 0.95936129 0.9294197  0.89529383]\n",
      "2 day output [[0.8793298]]\n",
      "3 day input [0.72847587 0.73099331 0.72595843 0.73063368 0.73351075 0.73890527\n",
      " 0.73962454 0.76156225 0.76659714 0.76983385 0.76479896 0.77774581\n",
      " 0.77666691 0.78098252 0.77522837 0.78206143 0.78817521 0.78997339\n",
      " 0.80435877 0.81155146 0.81622671 0.81766525 0.80471841 0.79896425\n",
      " 0.80507804 0.80579731 0.81442854 0.81910379 0.85075164 0.85219017\n",
      " 0.84355894 0.8025606  0.8119111  0.82989283 0.84212041 0.85614616\n",
      " 0.86333885 0.87304898 0.87592606 0.87340862 0.84283967 0.83528735\n",
      " 0.83097173 0.81946343 0.83097173 0.83420844 0.8399626  0.84283967\n",
      " 0.84032223 0.85686542 0.81658635 0.81227073 0.83492771 0.83276991\n",
      " 0.80543768 0.84176077 0.83097173 0.84068187 0.83852406 0.84715529\n",
      " 0.83924333 0.86729483 0.88743437 0.91045098 0.90793354 0.90325829\n",
      " 0.88599583 0.85794433 0.86154067 0.88491692 0.88527656 0.89354816\n",
      " 0.89031144 0.88419766 0.90433719 0.91872258 0.91620514 0.89534633\n",
      " 0.906495   0.88203985 0.88311875 0.94857225 0.98561462 0.9708696\n",
      " 0.96187873 0.95828239 1.         0.97374667 0.96619435 0.90181975\n",
      " 0.89462706 0.887794   0.94569517 0.93886212 0.91764367 0.94965115\n",
      " 0.95936129 0.9294197  0.89529383 0.8793298 ]\n",
      "3 day output [[0.8689494]]\n",
      "4 day input [0.73099331 0.72595843 0.73063368 0.73351075 0.73890527 0.73962454\n",
      " 0.76156225 0.76659714 0.76983385 0.76479896 0.77774581 0.77666691\n",
      " 0.78098252 0.77522837 0.78206143 0.78817521 0.78997339 0.80435877\n",
      " 0.81155146 0.81622671 0.81766525 0.80471841 0.79896425 0.80507804\n",
      " 0.80579731 0.81442854 0.81910379 0.85075164 0.85219017 0.84355894\n",
      " 0.8025606  0.8119111  0.82989283 0.84212041 0.85614616 0.86333885\n",
      " 0.87304898 0.87592606 0.87340862 0.84283967 0.83528735 0.83097173\n",
      " 0.81946343 0.83097173 0.83420844 0.8399626  0.84283967 0.84032223\n",
      " 0.85686542 0.81658635 0.81227073 0.83492771 0.83276991 0.80543768\n",
      " 0.84176077 0.83097173 0.84068187 0.83852406 0.84715529 0.83924333\n",
      " 0.86729483 0.88743437 0.91045098 0.90793354 0.90325829 0.88599583\n",
      " 0.85794433 0.86154067 0.88491692 0.88527656 0.89354816 0.89031144\n",
      " 0.88419766 0.90433719 0.91872258 0.91620514 0.89534633 0.906495\n",
      " 0.88203985 0.88311875 0.94857225 0.98561462 0.9708696  0.96187873\n",
      " 0.95828239 1.         0.97374667 0.96619435 0.90181975 0.89462706\n",
      " 0.887794   0.94569517 0.93886212 0.91764367 0.94965115 0.95936129\n",
      " 0.9294197  0.89529383 0.8793298  0.86894941]\n",
      "4 day output [[0.8568874]]\n",
      "5 day input [0.72595843 0.73063368 0.73351075 0.73890527 0.73962454 0.76156225\n",
      " 0.76659714 0.76983385 0.76479896 0.77774581 0.77666691 0.78098252\n",
      " 0.77522837 0.78206143 0.78817521 0.78997339 0.80435877 0.81155146\n",
      " 0.81622671 0.81766525 0.80471841 0.79896425 0.80507804 0.80579731\n",
      " 0.81442854 0.81910379 0.85075164 0.85219017 0.84355894 0.8025606\n",
      " 0.8119111  0.82989283 0.84212041 0.85614616 0.86333885 0.87304898\n",
      " 0.87592606 0.87340862 0.84283967 0.83528735 0.83097173 0.81946343\n",
      " 0.83097173 0.83420844 0.8399626  0.84283967 0.84032223 0.85686542\n",
      " 0.81658635 0.81227073 0.83492771 0.83276991 0.80543768 0.84176077\n",
      " 0.83097173 0.84068187 0.83852406 0.84715529 0.83924333 0.86729483\n",
      " 0.88743437 0.91045098 0.90793354 0.90325829 0.88599583 0.85794433\n",
      " 0.86154067 0.88491692 0.88527656 0.89354816 0.89031144 0.88419766\n",
      " 0.90433719 0.91872258 0.91620514 0.89534633 0.906495   0.88203985\n",
      " 0.88311875 0.94857225 0.98561462 0.9708696  0.96187873 0.95828239\n",
      " 1.         0.97374667 0.96619435 0.90181975 0.89462706 0.887794\n",
      " 0.94569517 0.93886212 0.91764367 0.94965115 0.95936129 0.9294197\n",
      " 0.89529383 0.8793298  0.86894941 0.8568874 ]\n",
      "5 day output [[0.845608]]\n",
      "6 day input [0.73063368 0.73351075 0.73890527 0.73962454 0.76156225 0.76659714\n",
      " 0.76983385 0.76479896 0.77774581 0.77666691 0.78098252 0.77522837\n",
      " 0.78206143 0.78817521 0.78997339 0.80435877 0.81155146 0.81622671\n",
      " 0.81766525 0.80471841 0.79896425 0.80507804 0.80579731 0.81442854\n",
      " 0.81910379 0.85075164 0.85219017 0.84355894 0.8025606  0.8119111\n",
      " 0.82989283 0.84212041 0.85614616 0.86333885 0.87304898 0.87592606\n",
      " 0.87340862 0.84283967 0.83528735 0.83097173 0.81946343 0.83097173\n",
      " 0.83420844 0.8399626  0.84283967 0.84032223 0.85686542 0.81658635\n",
      " 0.81227073 0.83492771 0.83276991 0.80543768 0.84176077 0.83097173\n",
      " 0.84068187 0.83852406 0.84715529 0.83924333 0.86729483 0.88743437\n",
      " 0.91045098 0.90793354 0.90325829 0.88599583 0.85794433 0.86154067\n",
      " 0.88491692 0.88527656 0.89354816 0.89031144 0.88419766 0.90433719\n",
      " 0.91872258 0.91620514 0.89534633 0.906495   0.88203985 0.88311875\n",
      " 0.94857225 0.98561462 0.9708696  0.96187873 0.95828239 1.\n",
      " 0.97374667 0.96619435 0.90181975 0.89462706 0.887794   0.94569517\n",
      " 0.93886212 0.91764367 0.94965115 0.95936129 0.9294197  0.89529383\n",
      " 0.8793298  0.86894941 0.8568874  0.845608  ]\n",
      "6 day output [[0.8358643]]\n",
      "7 day input [0.73351075 0.73890527 0.73962454 0.76156225 0.76659714 0.76983385\n",
      " 0.76479896 0.77774581 0.77666691 0.78098252 0.77522837 0.78206143\n",
      " 0.78817521 0.78997339 0.80435877 0.81155146 0.81622671 0.81766525\n",
      " 0.80471841 0.79896425 0.80507804 0.80579731 0.81442854 0.81910379\n",
      " 0.85075164 0.85219017 0.84355894 0.8025606  0.8119111  0.82989283\n",
      " 0.84212041 0.85614616 0.86333885 0.87304898 0.87592606 0.87340862\n",
      " 0.84283967 0.83528735 0.83097173 0.81946343 0.83097173 0.83420844\n",
      " 0.8399626  0.84283967 0.84032223 0.85686542 0.81658635 0.81227073\n",
      " 0.83492771 0.83276991 0.80543768 0.84176077 0.83097173 0.84068187\n",
      " 0.83852406 0.84715529 0.83924333 0.86729483 0.88743437 0.91045098\n",
      " 0.90793354 0.90325829 0.88599583 0.85794433 0.86154067 0.88491692\n",
      " 0.88527656 0.89354816 0.89031144 0.88419766 0.90433719 0.91872258\n",
      " 0.91620514 0.89534633 0.906495   0.88203985 0.88311875 0.94857225\n",
      " 0.98561462 0.9708696  0.96187873 0.95828239 1.         0.97374667\n",
      " 0.96619435 0.90181975 0.89462706 0.887794   0.94569517 0.93886212\n",
      " 0.91764367 0.94965115 0.95936129 0.9294197  0.89529383 0.8793298\n",
      " 0.86894941 0.8568874  0.845608   0.83586431]\n",
      "7 day output [[0.82711965]]\n",
      "8 day input [0.73890527 0.73962454 0.76156225 0.76659714 0.76983385 0.76479896\n",
      " 0.77774581 0.77666691 0.78098252 0.77522837 0.78206143 0.78817521\n",
      " 0.78997339 0.80435877 0.81155146 0.81622671 0.81766525 0.80471841\n",
      " 0.79896425 0.80507804 0.80579731 0.81442854 0.81910379 0.85075164\n",
      " 0.85219017 0.84355894 0.8025606  0.8119111  0.82989283 0.84212041\n",
      " 0.85614616 0.86333885 0.87304898 0.87592606 0.87340862 0.84283967\n",
      " 0.83528735 0.83097173 0.81946343 0.83097173 0.83420844 0.8399626\n",
      " 0.84283967 0.84032223 0.85686542 0.81658635 0.81227073 0.83492771\n",
      " 0.83276991 0.80543768 0.84176077 0.83097173 0.84068187 0.83852406\n",
      " 0.84715529 0.83924333 0.86729483 0.88743437 0.91045098 0.90793354\n",
      " 0.90325829 0.88599583 0.85794433 0.86154067 0.88491692 0.88527656\n",
      " 0.89354816 0.89031144 0.88419766 0.90433719 0.91872258 0.91620514\n",
      " 0.89534633 0.906495   0.88203985 0.88311875 0.94857225 0.98561462\n",
      " 0.9708696  0.96187873 0.95828239 1.         0.97374667 0.96619435\n",
      " 0.90181975 0.89462706 0.887794   0.94569517 0.93886212 0.91764367\n",
      " 0.94965115 0.95936129 0.9294197  0.89529383 0.8793298  0.86894941\n",
      " 0.8568874  0.845608   0.83586431 0.82711965]\n",
      "8 day output [[0.8191183]]\n",
      "9 day input [0.73962454 0.76156225 0.76659714 0.76983385 0.76479896 0.77774581\n",
      " 0.77666691 0.78098252 0.77522837 0.78206143 0.78817521 0.78997339\n",
      " 0.80435877 0.81155146 0.81622671 0.81766525 0.80471841 0.79896425\n",
      " 0.80507804 0.80579731 0.81442854 0.81910379 0.85075164 0.85219017\n",
      " 0.84355894 0.8025606  0.8119111  0.82989283 0.84212041 0.85614616\n",
      " 0.86333885 0.87304898 0.87592606 0.87340862 0.84283967 0.83528735\n",
      " 0.83097173 0.81946343 0.83097173 0.83420844 0.8399626  0.84283967\n",
      " 0.84032223 0.85686542 0.81658635 0.81227073 0.83492771 0.83276991\n",
      " 0.80543768 0.84176077 0.83097173 0.84068187 0.83852406 0.84715529\n",
      " 0.83924333 0.86729483 0.88743437 0.91045098 0.90793354 0.90325829\n",
      " 0.88599583 0.85794433 0.86154067 0.88491692 0.88527656 0.89354816\n",
      " 0.89031144 0.88419766 0.90433719 0.91872258 0.91620514 0.89534633\n",
      " 0.906495   0.88203985 0.88311875 0.94857225 0.98561462 0.9708696\n",
      " 0.96187873 0.95828239 1.         0.97374667 0.96619435 0.90181975\n",
      " 0.89462706 0.887794   0.94569517 0.93886212 0.91764367 0.94965115\n",
      " 0.95936129 0.9294197  0.89529383 0.8793298  0.86894941 0.8568874\n",
      " 0.845608   0.83586431 0.82711965 0.81911832]\n",
      "9 day output [[0.8117821]]\n",
      "[[0.9294196963310242], [0.8952938318252563], [0.8793298006057739], [0.8689494132995605], [0.8568874001502991], [0.8456079959869385], [0.8358643054962158], [0.8271196484565735], [0.819118320941925], [0.8117821216583252]]\n"
     ]
    }
   ],
   "source": [
    "lst_output=[]\n",
    "n_steps=100\n",
    "i=0\n",
    "while(i<10):\n",
    "    \n",
    "    if(len(temp_in)>100):\n",
    "        #print(temp_input)\n",
    "        x_input=np.array(temp_in[1:])\n",
    "        print(\"{} day input {}\".format(i,x_input))\n",
    "        x_input=x_input.reshape(1,-1)\n",
    "        x_input = x_input.reshape((1, n_steps, 1))\n",
    "        #print(x_input)\n",
    "        yhat = model.predict(x_input, verbose=0)\n",
    "        print(\"{} day output {}\".format(i,yhat))\n",
    "        temp_in.extend(yhat[0].tolist())\n",
    "        temp_in=temp_in[1:]\n",
    "        #print(temp_input)\n",
    "        lst_output.extend(yhat.tolist())\n",
    "        i=i+1\n",
    "    else:\n",
    "        x_input = x_input.reshape((1, n_steps,1))\n",
    "        yhat = model.predict(x_input, verbose=0)\n",
    "        print(yhat[0])\n",
    "        temp_in.extend(yhat[0].tolist())\n",
    "        print(len(temp_in))\n",
    "        lst_output.extend(yhat.tolist())\n",
    "        i=i+1\n",
    "    \n",
    "\n",
    "print(lst_output)"
   ]
  },
  {
   "cell_type": "code",
   "execution_count": 54,
   "id": "72c66207-aa39-4c3c-ba72-818941b0e3fb",
   "metadata": {},
   "outputs": [
    {
     "name": "stdout",
     "output_type": "stream",
     "text": [
      "[[147.33722038]\n",
      " [142.59270144]\n",
      " [140.37322218]\n",
      " [138.93003693]\n",
      " [137.25305524]\n",
      " [135.68487968]\n",
      " [134.33021439]\n",
      " [133.11444472]\n",
      " [132.00202016]\n",
      " [130.98206837]]\n"
     ]
    }
   ],
   "source": [
    "scaled_pred = scaler.inverse_transform(lst_output)\n",
    "print(scaled_pred)"
   ]
  },
  {
   "cell_type": "code",
   "execution_count": 55,
   "id": "b5e95fca-128f-4642-96d8-2d6830f5d769",
   "metadata": {},
   "outputs": [
    {
     "data": {
      "text/plain": [
       "2468"
      ]
     },
     "execution_count": 55,
     "metadata": {},
     "output_type": "execute_result"
    }
   ],
   "source": [
    "len(cop)"
   ]
  },
  {
   "cell_type": "code",
   "execution_count": 56,
   "id": "97ac8077-e98b-49b8-bb29-70ad82ba248a",
   "metadata": {},
   "outputs": [],
   "source": [
    "day_new=np.arange(1,101)\n",
    "day_pred=np.arange(101,111)"
   ]
  },
  {
   "cell_type": "code",
   "execution_count": 57,
   "id": "e437b67e-bfb8-4322-afb1-cc2502be437f",
   "metadata": {},
   "outputs": [
    {
     "data": {
      "text/plain": [
       "[<matplotlib.lines.Line2D at 0x30997e310>]"
      ]
     },
     "execution_count": 57,
     "metadata": {},
     "output_type": "execute_result"
    },
    {
     "data": {
      "image/png": "[encoded data removed]",
      "text/plain": [
       "<Figure size 640x480 with 1 Axes>"
      ]
     },
     "metadata": {},
     "output_type": "display_data"
    }
   ],
   "source": [
    "plt.plot(day_new,scaler.inverse_transform(cop[2368:]))\n",
    "plt.plot(day_pred,scaler.inverse_transform(lst_output))"
   ]
  }
 ],
 "metadata": {
  "kernelspec": {
   "display_name": "Python 3 (ipykernel)",
   "language": "python",
   "name": "python3"
  },
  "language_info": {
   "codemirror_mode": {
    "name": "ipython",
    "version": 3
   },
   "file_extension": ".py",
   "mimetype": "text/x-python",
   "name": "python",
   "nbconvert_exporter": "python",
   "pygments_lexer": "ipython3",
   "version": "3.11.7"
  }
 },
 "nbformat": 4,
 "nbformat_minor": 5
}
